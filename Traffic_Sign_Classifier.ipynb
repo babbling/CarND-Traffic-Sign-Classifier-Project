{
 "cells": [
  {
   "cell_type": "markdown",
   "metadata": {},
   "source": [
    "# Self-Driving Car Engineer Nanodegree\n",
    "\n",
    "## Deep Learning\n",
    "\n",
    "## Project: Build a Traffic Sign Recognition Classifier\n",
    "\n",
    "In this notebook, a template is provided for you to implement your functionality in stages, which is required to successfully complete this project. If additional code is required that cannot be included in the notebook, be sure that the Python code is successfully imported and included in your submission if necessary. \n",
    "\n",
    "> **Note**: Once you have completed all of the code implementations, you need to finalize your work by exporting the iPython Notebook as an HTML document. Before exporting the notebook to html, all of the code cells need to have been run so that reviewers can see the final implementation and output. You can then export the notebook by using the menu above and navigating to  \\n\",\n",
    "    \"**File -> Download as -> HTML (.html)**. Include the finished document along with this notebook as your submission. \n",
    "\n",
    "In addition to implementing code, there is a writeup to complete. The writeup should be completed in a separate file, which can be either a markdown file or a pdf document. There is a [write up template](https://github.com/udacity/CarND-Traffic-Sign-Classifier-Project/blob/master/writeup_template.md) that can be used to guide the writing process. Completing the code template and writeup template will cover all of the [rubric points](https://review.udacity.com/#!/rubrics/481/view) for this project.\n",
    "\n",
    "The [rubric](https://review.udacity.com/#!/rubrics/481/view) contains \"Stand Out Suggestions\" for enhancing the project beyond the minimum requirements. The stand out suggestions are optional. If you decide to pursue the \"stand out suggestions\", you can include the code in this Ipython notebook and also discuss the results in the writeup file.\n",
    "\n",
    "\n",
    ">**Note:** Code and Markdown cells can be executed using the **Shift + Enter** keyboard shortcut. In addition, Markdown cells can be edited by typically double-clicking the cell to enter edit mode."
   ]
  },
  {
   "cell_type": "markdown",
   "metadata": {},
   "source": [
    "---\n",
    "## Step 0: Load The Data"
   ]
  },
  {
   "cell_type": "code",
   "execution_count": 1,
   "metadata": {
    "collapsed": true
   },
   "outputs": [],
   "source": [
    "# Load pickled data\n",
    "import pickle\n",
    "\n",
    "# TODO: Fill this in based on where you saved the training and testing data\n",
    "\n",
    "training_file = '../../data/train.p'\n",
    "validation_file='../../data/valid.p'\n",
    "testing_file = '../../data/test.p'\n",
    "\n",
    "with open(training_file, mode='rb') as f:\n",
    "    train = pickle.load(f)\n",
    "with open(validation_file, mode='rb') as f:\n",
    "    valid = pickle.load(f)\n",
    "with open(testing_file, mode='rb') as f:\n",
    "    test = pickle.load(f)\n",
    "    \n",
    "X_train, y_train, sizes_train, coords_train = train['features'], train['labels'], train['sizes'], train['coords']\n",
    "X_valid, y_valid, sizes_valid, coords_valid = valid['features'], valid['labels'], valid['sizes'], valid['coords']\n",
    "X_test, y_test, sizes_test, coords_test = test['features'], test['labels'], test['sizes'], test['coords']"
   ]
  },
  {
   "cell_type": "markdown",
   "metadata": {},
   "source": [
    "---\n",
    "\n",
    "## Step 1: Dataset Summary & Exploration\n",
    "\n",
    "The pickled data is a dictionary with 4 key/value pairs:\n",
    "\n",
    "- `'features'` is a 4D array containing raw pixel data of the traffic sign images, (num examples, width, height, channels).\n",
    "- `'labels'` is a 1D array containing the label/class id of the traffic sign. The file `signnames.csv` contains id -> name mappings for each id.\n",
    "- `'sizes'` is a list containing tuples, (width, height) representing the original width and height the image.\n",
    "- `'coords'` is a list containing tuples, (x1, y1, x2, y2) representing coordinates of a bounding box around the sign in the image. **THESE COORDINATES ASSUME THE ORIGINAL IMAGE. THE PICKLED DATA CONTAINS RESIZED VERSIONS (32 by 32) OF THESE IMAGES**\n",
    "\n",
    "Complete the basic data summary below. Use python, numpy and/or pandas methods to calculate the data summary rather than hard coding the results. For example, the [pandas shape method](http://pandas.pydata.org/pandas-docs/stable/generated/pandas.DataFrame.shape.html) might be useful for calculating some of the summary results. "
   ]
  },
  {
   "cell_type": "markdown",
   "metadata": {},
   "source": [
    "### Provide a Basic Summary of the Data Set Using Python, Numpy and/or Pandas"
   ]
  },
  {
   "cell_type": "code",
   "execution_count": 2,
   "metadata": {},
   "outputs": [
    {
     "name": "stdout",
     "output_type": "stream",
     "text": [
      "Number of training examples = 34799\n",
      "Number of testing examples = 12630\n",
      "Image data shape = (32, 32, 3)\n",
      "Image array shape = (34799, 32, 32, 3)\n",
      "Number of classes = 43\n"
     ]
    }
   ],
   "source": [
    "### Replace each question mark with the appropriate value. \n",
    "### Use python, pandas or numpy methods rather than hard coding the results\n",
    "\n",
    "# TODO: Number of training examples\n",
    "n_train = len(X_train)\n",
    "\n",
    "# TODO: Number of validation examples\n",
    "n_validation = len(X_valid)\n",
    "\n",
    "# TODO: Number of testing examples.\n",
    "n_test = len(X_test)\n",
    "\n",
    "# TODO: What's the shape of an traffic sign image?\n",
    "image_shape = X_train[0].shape\n",
    "\n",
    "# TODO: How many unique classes/labels there are in the dataset.\n",
    "n_classes = len(set(y_train))\n",
    "\n",
    "print(\"Number of training examples =\", n_train)\n",
    "print(\"Number of testing examples =\", n_test)\n",
    "print(\"Image data shape =\", image_shape)\n",
    "print(\"Image array shape =\", X_train.shape)\n",
    "print(\"Number of classes =\", n_classes)\n"
   ]
  },
  {
   "cell_type": "markdown",
   "metadata": {},
   "source": [
    "### Include an exploratory visualization of the dataset"
   ]
  },
  {
   "cell_type": "markdown",
   "metadata": {},
   "source": [
    "Visualize the German Traffic Signs Dataset using the pickled file(s). This is open ended, suggestions include: plotting traffic sign images, plotting the count of each sign, etc. \n",
    "\n",
    "The [Matplotlib](http://matplotlib.org/) [examples](http://matplotlib.org/examples/index.html) and [gallery](http://matplotlib.org/gallery.html) pages are a great resource for doing visualizations in Python.\n",
    "\n",
    "**NOTE:** It's recommended you start with something simple first. If you wish to do more, come back to it after you've completed the rest of the sections. It can be interesting to look at the distribution of classes in the training, validation and test set. Is the distribution the same? Are there more examples of some classes than others?"
   ]
  },
  {
   "cell_type": "code",
   "execution_count": 38,
   "metadata": {
    "collapsed": true
   },
   "outputs": [],
   "source": [
    "### Data exploration visualization code goes here.\n",
    "### Feel free to use as many code cells as needed.\n",
    "import matplotlib.pyplot as plt\n",
    "\n",
    "# Define image plot function\n",
    "# Default size 3x3\n",
    "def plotImage(img, image_type, image_label):\n",
    "    plt.figure(figsize=(3,3))\n",
    "    plt.title(image_type + ' Image'+', '+'Label ID:'+str(image_label))\n",
    "    plt.imshow(img)\n",
    "\n",
    "# Deprecated Self defined rgb to grayscale functon\n",
    "def myrgb2gray(rgb):\n",
    "\n",
    "    r, g, b = rgb[:,:,0], rgb[:,:,1], rgb[:,:,2]\n",
    "    gray = 0.2989 * r + 0.5870 * g + 0.1140 * b\n",
    "\n",
    "    return gray\n",
    "\n",
    "# Deprecated normalize image function\n",
    "# We use min-max normalization instead\n",
    "def normalizeImage(img):\n",
    "    return ((img-128.)/128.)"
   ]
  },
  {
   "cell_type": "code",
   "execution_count": 39,
   "metadata": {},
   "outputs": [
    {
     "data": {
      "image/png": "[encoded data removed]",
      "text/plain": [
       "<matplotlib.figure.Figure at 0x7fb594419470>"
      ]
     },
     "metadata": {},
     "output_type": "display_data"
    },
    {
     "data": {
      "image/png": "[encoded data removed]",
      "text/plain": [
       "<matplotlib.figure.Figure at 0x7fb56d6ca550>"
      ]
     },
     "metadata": {},
     "output_type": "display_data"
    },
    {
     "data": {
      "image/png": "[encoded data removed]",
      "text/plain": [
       "<matplotlib.figure.Figure at 0x7fb55bd47e80>"
      ]
     },
     "metadata": {},
     "output_type": "display_data"
    },
    {
     "data": {
      "image/png": "[encoded data removed]",
      "text/plain": [
       "<matplotlib.figure.Figure at 0x7fb55bb7bc88>"
      ]
     },
     "metadata": {},
     "output_type": "display_data"
    },
    {
     "name": "stdout",
     "output_type": "stream",
     "text": [
      "Largest class = (2, 2010)\n",
      "Smallest class = (37, 180)\n",
      "Inspect classCounterDict ...\n",
      "Inspect classDict ...\n"
     ]
    },
    {
     "data": {
      "text/plain": [
       "{0: (180, 10),\n",
       " 1: (1980, 0),\n",
       " 2: (2010, 0),\n",
       " 3: (1260, 0),\n",
       " 4: (1770, 0),\n",
       " 5: (1650, 0),\n",
       " 6: (360, 4),\n",
       " 7: (1290, 0),\n",
       " 8: (1260, 0),\n",
       " 9: (1320, 0),\n",
       " 10: (1800, 0),\n",
       " 11: (1170, 0),\n",
       " 12: (1890, 0),\n",
       " 13: (1920, 0),\n",
       " 14: (690, 1),\n",
       " 15: (540, 2),\n",
       " 16: (360, 4),\n",
       " 17: (990, 1),\n",
       " 18: (1080, 0),\n",
       " 19: (180, 10),\n",
       " 20: (300, 5),\n",
       " 21: (270, 6),\n",
       " 22: (330, 5),\n",
       " 23: (450, 3),\n",
       " 24: (240, 7),\n",
       " 25: (1350, 0),\n",
       " 26: (540, 2),\n",
       " 27: (210, 8),\n",
       " 28: (480, 3),\n",
       " 29: (240, 7),\n",
       " 30: (390, 4),\n",
       " 31: (690, 1),\n",
       " 32: (210, 8),\n",
       " 33: (599, 2),\n",
       " 34: (360, 4),\n",
       " 35: (1080, 0),\n",
       " 36: (330, 5),\n",
       " 37: (180, 10),\n",
       " 38: (1860, 0),\n",
       " 39: (270, 6),\n",
       " 40: (300, 5),\n",
       " 41: (210, 8),\n",
       " 42: (210, 8)}"
      ]
     },
     "execution_count": 39,
     "metadata": {},
     "output_type": "execute_result"
    }
   ],
   "source": [
    "\n",
    "import numpy as np\n",
    "import random\n",
    "from collections import Counter\n",
    "from operator import itemgetter\n",
    "import scipy.ndimage as ndimage\n",
    "#from scipy import ndimage\n",
    "import copy\n",
    "import math\n",
    "\n",
    "# Visualizations will be shown in the notebook.\n",
    "%matplotlib inline\n",
    "\n",
    "# Sample training image\n",
    "index=random.randint(0, len(X_train))\n",
    "train_image = X_train[index].squeeze()\n",
    "plotImage(train_image, 'Train', y_train[index])\n",
    "\n",
    "# Sample test image\n",
    "index=random.randint(0, len(X_test))\n",
    "test_image = X_test[index].squeeze()\n",
    "plotImage(test_image, 'Test', y_test[index])\n",
    "\n",
    "# Sample validation image\n",
    "index=random.randint(0, len(X_valid))\n",
    "valid_image = X_valid[index].squeeze()\n",
    "plotImage(valid_image, 'Valid', y_valid[index])\n",
    "\n",
    "# Explore and visualize the distribution of classes/labels\n",
    "z = list(range(min(y_train),max(y_train)+1))\n",
    "classDist = Counter(y_train).items()\n",
    "classDist = sorted(classDist, key=lambda x: x[1])\n",
    "labels, values = zip(*classDist)\n",
    "indexes = np.arange(len(labels))\n",
    "width = 1\n",
    "\n",
    "plt.figure(figsize=(20,10))\n",
    "#plt.bar(range(len(classDist)), classDist.values(), align='center')\n",
    "plt.bar(indexes, values, width)\n",
    "plt.xticks(indexes + width * 0.2, labels)\n",
    "plt.title('Class Distribution')\n",
    "#plt.xticks(range(len(classDist)), list(classDist.keys()))\n",
    "\n",
    "plt.show()\n",
    "\n",
    "print(\"Largest class =\", max(classDist, key=lambda x: x[1]))\n",
    "print(\"Smallest class =\", min(classDist, key=lambda x: x[1]))\n",
    "\n",
    "maxClassSize = max(classDist, key=lambda x: x[1])[1] # example of extracting value from the tuple.  the value is the second element indicated by index 1\n",
    "\n",
    "# Data inspection done but before going further save off some important stats\n",
    "\n",
    "\n",
    "# Save a copy of the distribution prior to modification.  The copy will be used to track total counts\n",
    "classCounterDict = dict(classDist)\n",
    "\n",
    "print('Inspect classCounterDict ...')\n",
    "classCounterDict\n",
    "\n",
    "# Modify the class dictionary to include augmentation size\n",
    "for index, classSize in enumerate(classDist, start=0):\n",
    "    imageClass = classDist[index][0]\n",
    "    classSize = classDist[index][1]\n",
    "    \n",
    "    augmentSize = math.floor((maxClassSize-classSize) / classSize)\n",
    "    classDist[index]+=(augmentSize,)\n",
    "    #print(classDist[index])\n",
    "\n",
    "# Convert the class 3-tuple list distribution into a dictionary\n",
    "# This method of creating the dictionary is required because this is 3-tuple, not 2-tuple list.\n",
    "# Result is a key based on position 1 element of the tuple (label)\n",
    "# Position 2 of the tuple is the size of the label class\n",
    "# Position 3 or the tuple is the computed augmentation size per image to be applied\n",
    "# So to use this classDict dictionary classDict[label][0] => size of the label class and\n",
    "# classDict[label][1] => augmentation size\n",
    "classDict = dict([ (k[0], k[1:]) for k in classDist ])\n",
    "\n",
    "print('Inspect classDict ...')\n",
    "classDict"
   ]
  },
  {
   "cell_type": "code",
   "execution_count": 34,
   "metadata": {
    "scrolled": false
   },
   "outputs": [],
   "source": [
    "def add_rotations(X_train, y_train, classDict, classCounterDict):\n",
    "\n",
    "    # Initialize the resulting new array as an empty ndarray\n",
    "    # These arrays are 3-channel RGB images\n",
    "    newarray = np.ndarray(shape=(0,32,32,3), dtype='uint8')\n",
    "\n",
    "    # Iterate through the image set (training images) and based on the label and pre-determined augmentation size\n",
    "    # create augmented images through rotation\n",
    "    # Now if the augment size is 0 then add a single augmentation but keep a counter of how many images added,\n",
    "    # but stop when reaching maxClassSize (we won't cover all the images but at least there will be something)\n",
    "    for index, train in enumerate(X_train, start=0):\n",
    "        #print(y_train[index])\n",
    "        print('Index = '+str(index))\n",
    "        if index==1:\n",
    "            break\n",
    "        print('Original index:'+str(index))\n",
    "    \n",
    "        # retrieve just the image\n",
    "        originalimage = X_train[index].squeeze()\n",
    "        plt.imshow(originalimage)\n",
    "    \n",
    "        # retrieve the label corresponding to the image\n",
    "        originallabel = y_train[index]\n",
    "    \n",
    "        newarray=np.vstack((newarray, originalimage[None, :])) # append the original image to the new array\n",
    "        classCounterDict[originallabel]+=1 # increment the counter for each image added of a particular type\n",
    "  \n",
    "        # for each image, check the augmentation size and create augmentation for each image by increasing angle increments\n",
    "        # in 360/augmentation angle increments\n",
    "        angleIncrement = float(360.0/(classDict[originallabel][1]+1));\n",
    "        print('maxClassSize: '+str(maxClassSize))\n",
    "        print('Class ID/Label = '+str(originallabel)+'; augmentationSize = '+str(classDict[originallabel][1]))\n",
    "    \n",
    "        for i in range(1, classDict[originallabel][1]):\n",
    "            print('classCounter = '+str(classCounterDict[originallabel]))\n",
    "            angle = i*angleIncrement\n",
    "            if ( (angle > 360.0) or (classCounterDict[originallabel]+1) >=  maxClassSize):\n",
    "                break\n",
    "        \n",
    "            print('i:'+str(i)+', angle:'+str(angle))\n",
    "            # counter-clockwise rotate the image by i*angleIncrement\n",
    "            transformed_train_image = ndimage.interpolation.rotate(originalimage, angle, reshape=False, mode='nearest')\n",
    "        \n",
    "            newarray=np.vstack((newarray, transformed_train_image[None, :])) # append transformed image to the new array\n",
    "            classCounterDict[originallabel]+=1  # register the newly added image\n",
    "            print('Added new augmentation')\n",
    "\n",
    "    return newarray # return result\n",
    "        \n"
   ]
  },
  {
   "cell_type": "code",
   "execution_count": 37,
   "metadata": {},
   "outputs": [
    {
     "name": "stdout",
     "output_type": "stream",
     "text": [
      "Index = 0\n",
      "Original index:0\n",
      "maxClassSize: 2010\n",
      "Class ID/Label = 41; augmentationSize = 8\n",
      "classCounter = 227\n",
      "i:1, angle:40.0\n",
      "Added new augmentation\n",
      "classCounter = 228\n",
      "i:2, angle:80.0\n",
      "Added new augmentation\n",
      "classCounter = 229\n",
      "i:3, angle:120.0\n",
      "Added new augmentation\n",
      "classCounter = 230\n",
      "i:4, angle:160.0\n",
      "Added new augmentation\n",
      "classCounter = 231\n",
      "i:5, angle:200.0\n",
      "Added new augmentation\n",
      "classCounter = 232\n",
      "i:6, angle:240.0\n",
      "Added new augmentation\n",
      "classCounter = 233\n",
      "i:7, angle:280.0\n",
      "Added new augmentation\n",
      "Index = 1\n",
      "Total number of images in augmented array = 8\n"
     ]
    },
    {
     "data": {
      "text/plain": [
       "(8, 32, 32, 3)"
      ]
     },
     "execution_count": 37,
     "metadata": {},
     "output_type": "execute_result"
    },
    {
     "data": {
      "image/png": "[encoded data removed]",
      "text/plain": [
       "<matplotlib.figure.Figure at 0x7fb56d59a8d0>"
      ]
     },
     "metadata": {},
     "output_type": "display_data"
    },
    {
     "data": {
      "image/png": "[encoded data removed]",
      "text/plain": [
       "<matplotlib.figure.Figure at 0x7fb56d382358>"
      ]
     },
     "metadata": {},
     "output_type": "display_data"
    },
    {
     "data": {
      "image/png": "[encoded data removed]",
      "text/plain": [
       "<matplotlib.figure.Figure at 0x7fb56d61a160>"
      ]
     },
     "metadata": {},
     "output_type": "display_data"
    },
    {
     "data": {
      "image/png": "[encoded data removed]",
      "text/plain": [
       "<matplotlib.figure.Figure at 0x7fb56d3e10f0>"
      ]
     },
     "metadata": {},
     "output_type": "display_data"
    },
    {
     "data": {
      "image/png": "[encoded data removed]",
      "text/plain": [
       "<matplotlib.figure.Figure at 0x7fb55bbf6ef0>"
      ]
     },
     "metadata": {},
     "output_type": "display_data"
    },
    {
     "data": {
      "image/png": "[encoded data removed]",
      "text/plain": [
       "<matplotlib.figure.Figure at 0x7fb55bbae9b0>"
      ]
     },
     "metadata": {},
     "output_type": "display_data"
    },
    {
     "data": {
      "image/png": "[encoded data removed]",
      "text/plain": [
       "<matplotlib.figure.Figure at 0x7fb55bb98f98>"
      ]
     },
     "metadata": {},
     "output_type": "display_data"
    },
    {
     "data": {
      "image/png": "[encoded data removed]",
      "text/plain": [
       "<matplotlib.figure.Figure at 0x7fb56d860358>"
      ]
     },
     "metadata": {},
     "output_type": "display_data"
    },
    {
     "data": {
      "image/png": "[encoded data removed]",
      "text/plain": [
       "<matplotlib.figure.Figure at 0x7fb55bec1470>"
      ]
     },
     "metadata": {},
     "output_type": "display_data"
    }
   ],
   "source": [
    "# Test the augmentation function\n",
    "augmented = add_rotations(X_train, y_train, classDict, classCounterDict)\n",
    "print('Total number of images in augmented array = '+str(len(augmented)))\n",
    "for i in range(len(augmented)):\n",
    "    #imagePlot(augmented[i,:,:], 'Augmented train', )\n",
    "    plt.figure(figsize=(3,3))\n",
    "    plt.imshow(augmented[i,:,:])\n",
    "    \n",
    "augmented.shape\n",
    "\n",
    "#plt.show()"
   ]
  },
  {
   "cell_type": "code",
   "execution_count": 94,
   "metadata": {},
   "outputs": [
    {
     "data": {
      "text/plain": [
       "<matplotlib.image.AxesImage at 0x7f1de98aa470>"
      ]
     },
     "execution_count": 94,
     "metadata": {},
     "output_type": "execute_result"
    },
    {
     "data": {
      "image/png": "[encoded data removed]",
      "text/plain": [
       "<matplotlib.figure.Figure at 0x7f1dea1a4cf8>"
      ]
     },
     "metadata": {},
     "output_type": "display_data"
    }
   ],
   "source": [
    "from scipy import ndimage\n",
    "\n",
    "transformed_train_image = ndimage.interpolation.rotate(train_image, -30., reshape=False, mode='nearest')\n",
    "plt.figure(figsize=(3,3))\n",
    "plt.title('Transformed Train Sample '+str(transformed_train_image.shape))\n",
    "plt.imshow(transformed_train_image, cmap='gray')"
   ]
  },
  {
   "cell_type": "code",
   "execution_count": 95,
   "metadata": {},
   "outputs": [
    {
     "data": {
      "text/plain": [
       "<matplotlib.image.AxesImage at 0x7f1de96ffa58>"
      ]
     },
     "execution_count": 95,
     "metadata": {},
     "output_type": "execute_result"
    },
    {
     "data": {
      "image/png": "[encoded data removed]",
      "text/plain": [
       "<matplotlib.figure.Figure at 0x7f1de9d6cac8>"
      ]
     },
     "metadata": {},
     "output_type": "display_data"
    }
   ],
   "source": [
    "# Self defined rgb to grayscale functon\n",
    "def myrgb2gray(rgb):\n",
    "\n",
    "    r, g, b = rgb[:,:,0], rgb[:,:,1], rgb[:,:,2]\n",
    "    gray = 0.2989 * r + 0.5870 * g + 0.1140 * b\n",
    "\n",
    "    return gray\n",
    "\n",
    "mygray = myrgb2gray(transformed_train_image)\n",
    "plt.figure(figsize=(3,3))\n",
    "plt.title('Gray Transformed Train Sample '+str(mygray.shape))\n",
    "plt.imshow(mygray, cmap='gray')"
   ]
  },
  {
   "cell_type": "code",
   "execution_count": 96,
   "metadata": {},
   "outputs": [
    {
     "name": "stdout",
     "output_type": "stream",
     "text": [
      "(32, 32)\n",
      "(1, 32, 32)\n",
      "(4, 32, 32)\n"
     ]
    },
    {
     "data": {
      "text/plain": [
       "<matplotlib.image.AxesImage at 0x7f1de9f2d208>"
      ]
     },
     "execution_count": 96,
     "metadata": {},
     "output_type": "execute_result"
    },
    {
     "data": {
      "image/png": "[encoded data removed]",
      "text/plain": [
       "<matplotlib.figure.Figure at 0x7f1de9803e48>"
      ]
     },
     "metadata": {},
     "output_type": "display_data"
    }
   ],
   "source": [
    "import numpy\n",
    "mygray\n",
    "print(mygray.shape)\n",
    "newarray = mygray[None, :]\n",
    "print(newarray.shape)\n",
    "newarray = numpy.concatenate((newarray, mygray[None, :]), axis=0)\n",
    "newarray = numpy.concatenate((newarray, mygray[None, :]), axis=0)\n",
    "newarray = numpy.concatenate((newarray, mygray[None, :]), axis=0)\n",
    "print(newarray.shape)\n",
    "xtract = newarray[0,:,:]\n",
    "plt.imshow(xtract, cmap='gray')"
   ]
  },
  {
   "cell_type": "code",
   "execution_count": 97,
   "metadata": {},
   "outputs": [
    {
     "name": "stdout",
     "output_type": "stream",
     "text": [
      "(32, 32)\n",
      "(1, 32, 32)\n",
      "(4, 32, 32)\n"
     ]
    },
    {
     "data": {
      "text/plain": [
       "<matplotlib.image.AxesImage at 0x7f1de9ccef28>"
      ]
     },
     "execution_count": 97,
     "metadata": {},
     "output_type": "execute_result"
    },
    {
     "data": {
      "image/png": "[encoded data removed]",
      "text/plain": [
       "<matplotlib.figure.Figure at 0x7f1de9f3dd30>"
      ]
     },
     "metadata": {},
     "output_type": "display_data"
    }
   ],
   "source": [
    "import numpy\n",
    "mygray\n",
    "print(mygray.shape)\n",
    "newarray = mygray[None, :]\n",
    "print(newarray.shape)\n",
    "newarray = numpy.vstack((newarray, mygray[None, :]))\n",
    "newarray = numpy.vstack((newarray, mygray[None, :]))\n",
    "newarray = numpy.vstack((newarray, mygray[None, :]))\n",
    "print(newarray.shape)\n",
    "xtract = newarray[0,:,:]\n",
    "plt.imshow(xtract, cmap='gray')"
   ]
  },
  {
   "cell_type": "code",
   "execution_count": 99,
   "metadata": {},
   "outputs": [
    {
     "name": "stdout",
     "output_type": "stream",
     "text": [
      "(32, 32)\n",
      "(1, 32, 32)\n",
      "(4, 32, 32)\n"
     ]
    },
    {
     "data": {
      "text/plain": [
       "<matplotlib.image.AxesImage at 0x7f1de9d752b0>"
      ]
     },
     "execution_count": 99,
     "metadata": {},
     "output_type": "execute_result"
    },
    {
     "data": {
      "image/png": "[encoded data removed]",
      "text/plain": [
       "<matplotlib.figure.Figure at 0x7f1de96ff828>"
      ]
     },
     "metadata": {},
     "output_type": "display_data"
    }
   ],
   "source": [
    "import numpy\n",
    "mygray\n",
    "print(mygray.shape)\n",
    "newarray = mygray[None, :]\n",
    "print(newarray.shape)\n",
    "newarray = numpy.append(newarray, mygray[None, :], axis=0)\n",
    "newarray = numpy.append(newarray, mygray[None, :], axis=0)\n",
    "newarray = numpy.append(newarray, mygray[None, :], axis=0)\n",
    "print(newarray.shape)\n",
    "xtract = newarray[0,:,:]\n",
    "plt.imshow(xtract, cmap='gray')"
   ]
  },
  {
   "cell_type": "code",
   "execution_count": 101,
   "metadata": {},
   "outputs": [
    {
     "data": {
      "text/plain": [
       "array([[ 0.35241255,  0.34570824,  0.33144353, ...,  0.26668745,\n",
       "         0.27038667,  0.30707961],\n",
       "       [ 0.32941098,  0.35015765,  0.35157922, ...,  0.26112196,\n",
       "         0.29253216,  0.31122353],\n",
       "       [ 0.28476902,  0.31033098,  0.33613804, ...,  0.2734749 ,\n",
       "         0.30957961,  0.30193608],\n",
       "       ..., \n",
       "       [ 0.3291349 ,  0.32045843,  0.28883294, ...,  0.11705882,\n",
       "         0.11677608,  0.11257176],\n",
       "       [ 0.32830157,  0.30450431,  0.27513373, ...,  0.11622549,\n",
       "         0.11622549,  0.11705882],\n",
       "       [ 0.31681961,  0.28407804,  0.27011098, ...,  0.11622549,\n",
       "         0.11622549,  0.11622549]])"
      ]
     },
     "execution_count": 101,
     "metadata": {},
     "output_type": "execute_result"
    },
    {
     "data": {
      "image/png": "[encoded data removed]",
      "text/plain": [
       "<matplotlib.figure.Figure at 0x7f1de9fa1c18>"
      ]
     },
     "metadata": {},
     "output_type": "display_data"
    }
   ],
   "source": [
    "# grayscaling using skimage.color rgb2gray function which is confirmed to use the weighted sum method\n",
    "from skimage.color import rgb2gray\n",
    "gray = rgb2gray(transformed_train_image)\n",
    "plt.figure(figsize=(3,3))\n",
    "plt.title('Gray Transformed Train Sample '+str(gray.shape))\n",
    "plt.imshow(gray, cmap='gray')\n",
    "gray"
   ]
  },
  {
   "cell_type": "code",
   "execution_count": 12,
   "metadata": {},
   "outputs": [
    {
     "data": {
      "text/plain": [
       "(32, 32, 3)"
      ]
     },
     "execution_count": 12,
     "metadata": {},
     "output_type": "execute_result"
    }
   ],
   "source": [
    "from scipy import ndimage\n",
    "\n",
    "A = np.identity(32)\n",
    "train_image.shape\n",
    "\n",
    "#train_image\n",
    "#transformed_train_image = ndimage.affine_transform(train_image[:,:,0], matrix=A)\n",
    "#transformed_train_image = ndimage.affine_transform(train_image[:,:,1], matrix=A)\n",
    "##transformed_train_image = ndimage.affine_transform(train_image[:,:,2], matrix=A)\n",
    "#plt.figure(figsize=(3,3))\n",
    "#plt.title('Transfored Train Sample')\n",
    "#plt.imshow(transformed_train_image)"
   ]
  },
  {
   "cell_type": "code",
   "execution_count": 13,
   "metadata": {},
   "outputs": [
    {
     "data": {
      "text/plain": [
       "-1.0"
      ]
     },
     "execution_count": 13,
     "metadata": {},
     "output_type": "execute_result"
    }
   ],
   "source": [
    "J = np.arange(30).reshape(5,2,3)\n",
    "J\n",
    "np.mean(J[:])\n",
    "np.var(J)\n",
    "#normalizedJ = (J-np.mean(J))/np.var(J)\n",
    "normalizedJ = (J-128.)/128.\n",
    "np.min(normalizedJ)"
   ]
  },
  {
   "cell_type": "code",
   "execution_count": 103,
   "metadata": {},
   "outputs": [
    {
     "data": {
      "text/plain": [
       "array([[-0.99724678, -0.99729915, -0.9974106 , ..., -0.9979165 ,\n",
       "        -0.9978876 , -0.99760094],\n",
       "       [-0.99742648, -0.99726439, -0.99725329, ..., -0.99795998,\n",
       "        -0.99771459, -0.99756857],\n",
       "       [-0.99777524, -0.99757554, -0.99737392, ..., -0.99786348,\n",
       "        -0.99758141, -0.99764112],\n",
       "       ..., \n",
       "       [-0.99742863, -0.99749642, -0.99774349, ..., -0.99908548,\n",
       "        -0.99908769, -0.99912053],\n",
       "       [-0.99743514, -0.99762106, -0.99785052, ..., -0.99909199,\n",
       "        -0.99909199, -0.99908548],\n",
       "       [-0.99752485, -0.99778064, -0.99788976, ..., -0.99909199,\n",
       "        -0.99909199, -0.99909199]])"
      ]
     },
     "execution_count": 103,
     "metadata": {},
     "output_type": "execute_result"
    },
    {
     "data": {
      "image/png": "[encoded data removed]",
      "text/plain": [
       "<matplotlib.figure.Figure at 0x7f1de9a57630>"
      ]
     },
     "metadata": {},
     "output_type": "display_data"
    }
   ],
   "source": [
    "\n",
    "\n",
    "normalizedImage=normalizeImage(gray)\n",
    "plt.figure(figsize=(3,3))\n",
    "plt.title('normalizedImage Transformed Train Sample '+str(normalizedImage.shape))\n",
    "plt.imshow(normalizedImage, cmap='gray')\n",
    "normalizedImage"
   ]
  },
  {
   "cell_type": "code",
   "execution_count": 108,
   "metadata": {},
   "outputs": [
    {
     "data": {
      "text/plain": [
       "(32, 32)"
      ]
     },
     "execution_count": 108,
     "metadata": {},
     "output_type": "execute_result"
    }
   ],
   "source": [
    "mygray.shape"
   ]
  },
  {
   "cell_type": "code",
   "execution_count": 107,
   "metadata": {},
   "outputs": [
    {
     "data": {
      "text/plain": [
       "(32, 32, 3)"
      ]
     },
     "execution_count": 107,
     "metadata": {},
     "output_type": "execute_result"
    }
   ],
   "source": [
    "transformed_train_image.shape"
   ]
  },
  {
   "cell_type": "markdown",
   "metadata": {},
   "source": [
    "----\n",
    "\n",
    "## Step 2: Design and Test a Model Architecture\n",
    "\n",
    "Design and implement a deep learning model that learns to recognize traffic signs. Train and test your model on the [German Traffic Sign Dataset](http://benchmark.ini.rub.de/?section=gtsrb&subsection=dataset).\n",
    "\n",
    "The LeNet-5 implementation shown in the [classroom](https://classroom.udacity.com/nanodegrees/nd013/parts/fbf77062-5703-404e-b60c-95b78b2f3f9e/modules/6df7ae49-c61c-4bb2-a23e-6527e69209ec/lessons/601ae704-1035-4287-8b11-e2c2716217ad/concepts/d4aca031-508f-4e0b-b493-e7b706120f81) at the end of the CNN lesson is a solid starting point. You'll have to change the number of classes and possibly the preprocessing, but aside from that it's plug and play! \n",
    "\n",
    "With the LeNet-5 solution from the lecture, you should expect a validation set accuracy of about 0.89. To meet specifications, the validation set accuracy will need to be at least 0.93. It is possible to get an even higher accuracy, but 0.93 is the minimum for a successful project submission. \n",
    "\n",
    "There are various aspects to consider when thinking about this problem:\n",
    "\n",
    "- Neural network architecture (is the network over or underfitting?)\n",
    "- Play around preprocessing techniques (normalization, rgb to grayscale, etc)\n",
    "- Number of examples per label (some have more than others).\n",
    "- Generate fake data.\n",
    "\n",
    "Here is an example of a [published baseline model on this problem](http://yann.lecun.com/exdb/publis/pdf/sermanet-ijcnn-11.pdf). It's not required to be familiar with the approach used in the paper but, it's good practice to try to read papers like these."
   ]
  },
  {
   "cell_type": "markdown",
   "metadata": {},
   "source": [
    "### Pre-process the Data Set (normalization, grayscale, etc.)"
   ]
  },
  {
   "cell_type": "markdown",
   "metadata": {},
   "source": [
    "Minimally, the image data should be normalized so that the data has mean zero and equal variance. For image data, `(pixel - 128)/ 128` is a quick way to approximately normalize the data and can be used in this project. \n",
    "\n",
    "Other pre-processing steps are optional. You can try different techniques to see if it improves performance. \n",
    "\n",
    "Use the code cell (or multiple code cells, if necessary) to implement the first step of your project."
   ]
  },
  {
   "cell_type": "code",
   "execution_count": 11,
   "metadata": {},
   "outputs": [
    {
     "data": {
      "text/plain": [
       "<matplotlib.image.AxesImage at 0x7fb55c12c8d0>"
      ]
     },
     "execution_count": 11,
     "metadata": {},
     "output_type": "execute_result"
    },
    {
     "data": {
      "image/png": "[encoded data removed]",
      "text/plain": [
       "<matplotlib.figure.Figure at 0x7fb56d6e52b0>"
      ]
     },
     "metadata": {},
     "output_type": "display_data"
    },
    {
     "data": {
      "image/png": "[encoded data removed]",
      "text/plain": [
       "<matplotlib.figure.Figure at 0x7fb55c15a898>"
      ]
     },
     "metadata": {},
     "output_type": "display_data"
    }
   ],
   "source": [
    "### Preprocess the data here. It is required to normalize the data. Other preprocessing steps could include \n",
    "### converting to grayscale, etc.\n",
    "### Feel free to use as many code cells as needed.\n",
    "\n",
    "# Call Augmentation function which returns 3 channel augmentation of original X_train\n",
    "# X_train = augment(X_train)\n",
    "\n",
    "# Question:  Do we need to augment the test and validation sets as well?\n",
    "\n",
    "# Gray scale the images\n",
    "X_train_preprocessed = np.dot(X_train[...,:3],[0.299,0.587,0.114])\n",
    "\n",
    "# Normalize the images using min-max normalization technique limiting the values to between -0.5 and +0.5.\n",
    "# 255.0 is used because we know all image pixels of all images range from 0 to 255\n",
    "# By reducing the pixel values to this smaller range we are able to train on the images faster than compared\n",
    "# with the original image\n",
    "X_train_preprocessed = (X_train_preprocessed/255.0) - 0.5\n",
    "#X_train_normalized = (X_train-128.0)/128.0\n",
    "\n",
    "#index=random.randint(0, len(X_train))\n",
    "\n",
    "# original image\n",
    "train_image = X_train[0].squeeze()\n",
    "plt.figure(figsize=(3,3))\n",
    "plt.title('Training Sample Original, label: ' + str(y_train[index]))\n",
    "plt.imshow(train_image)\n",
    "\n",
    "# gray scaled and normalized image\n",
    "train_image = X_train_preprocessed[0].squeeze()\n",
    "plt.figure(figsize=(3,3))\n",
    "plt.title('Training Sample Gray and Normalized, label: ' + str(y_train[index]))\n",
    "plt.imshow(train_image, cmap='gray')"
   ]
  },
  {
   "cell_type": "markdown",
   "metadata": {},
   "source": [
    "### Model Architecture"
   ]
  },
  {
   "cell_type": "code",
   "execution_count": null,
   "metadata": {
    "collapsed": true
   },
   "outputs": [],
   "source": [
    "### Define your architecture here.\n",
    "### Feel free to use as many code cells as needed."
   ]
  },
  {
   "cell_type": "markdown",
   "metadata": {},
   "source": [
    "### Train, Validate and Test the Model"
   ]
  },
  {
   "cell_type": "markdown",
   "metadata": {},
   "source": [
    "A validation set can be used to assess how well the model is performing. A low accuracy on the training and validation\n",
    "sets imply underfitting. A high accuracy on the training set but low accuracy on the validation set implies overfitting."
   ]
  },
  {
   "cell_type": "code",
   "execution_count": null,
   "metadata": {
    "collapsed": true
   },
   "outputs": [],
   "source": [
    "### Train your model here.\n",
    "### Calculate and report the accuracy on the training and validation set.\n",
    "### Once a final model architecture is selected, \n",
    "### the accuracy on the test set should be calculated and reported as well.\n",
    "### Feel free to use as many code cells as needed."
   ]
  },
  {
   "cell_type": "markdown",
   "metadata": {},
   "source": [
    "---\n",
    "\n",
    "## Step 3: Test a Model on New Images\n",
    "\n",
    "To give yourself more insight into how your model is working, download at least five pictures of German traffic signs from the web and use your model to predict the traffic sign type.\n",
    "\n",
    "You may find `signnames.csv` useful as it contains mappings from the class id (integer) to the actual sign name."
   ]
  },
  {
   "cell_type": "markdown",
   "metadata": {},
   "source": [
    "### Load and Output the Images"
   ]
  },
  {
   "cell_type": "code",
   "execution_count": null,
   "metadata": {
    "collapsed": true
   },
   "outputs": [],
   "source": [
    "### Load the images and plot them here.\n",
    "### Feel free to use as many code cells as needed."
   ]
  },
  {
   "cell_type": "markdown",
   "metadata": {},
   "source": [
    "### Predict the Sign Type for Each Image"
   ]
  },
  {
   "cell_type": "code",
   "execution_count": null,
   "metadata": {
    "collapsed": true
   },
   "outputs": [],
   "source": [
    "### Run the predictions here and use the model to output the prediction for each image.\n",
    "### Make sure to pre-process the images with the same pre-processing pipeline used earlier.\n",
    "### Feel free to use as many code cells as needed."
   ]
  },
  {
   "cell_type": "markdown",
   "metadata": {},
   "source": [
    "### Analyze Performance"
   ]
  },
  {
   "cell_type": "code",
   "execution_count": null,
   "metadata": {
    "collapsed": true
   },
   "outputs": [],
   "source": [
    "### Calculate the accuracy for these 5 new images. \n",
    "### For example, if the model predicted 1 out of 5 signs correctly, it's 20% accurate on these new images."
   ]
  },
  {
   "cell_type": "markdown",
   "metadata": {},
   "source": [
    "### Output Top 5 Softmax Probabilities For Each Image Found on the Web"
   ]
  },
  {
   "cell_type": "markdown",
   "metadata": {},
   "source": [
    "For each of the new images, print out the model's softmax probabilities to show the **certainty** of the model's predictions (limit the output to the top 5 probabilities for each image). [`tf.nn.top_k`](https://www.tensorflow.org/versions/r0.12/api_docs/python/nn.html#top_k) could prove helpful here. \n",
    "\n",
    "The example below demonstrates how tf.nn.top_k can be used to find the top k predictions for each image.\n",
    "\n",
    "`tf.nn.top_k` will return the values and indices (class ids) of the top k predictions. So if k=3, for each sign, it'll return the 3 largest probabilities (out of a possible 43) and the correspoding class ids.\n",
    "\n",
    "Take this numpy array as an example. The values in the array represent predictions. The array contains softmax probabilities for five candidate images with six possible classes. `tk.nn.top_k` is used to choose the three classes with the highest probability:\n",
    "\n",
    "```\n",
    "# (5, 6) array\n",
    "a = np.array([[ 0.24879643,  0.07032244,  0.12641572,  0.34763842,  0.07893497,\n",
    "         0.12789202],\n",
    "       [ 0.28086119,  0.27569815,  0.08594638,  0.0178669 ,  0.18063401,\n",
    "         0.15899337],\n",
    "       [ 0.26076848,  0.23664738,  0.08020603,  0.07001922,  0.1134371 ,\n",
    "         0.23892179],\n",
    "       [ 0.11943333,  0.29198961,  0.02605103,  0.26234032,  0.1351348 ,\n",
    "         0.16505091],\n",
    "       [ 0.09561176,  0.34396535,  0.0643941 ,  0.16240774,  0.24206137,\n",
    "         0.09155967]])\n",
    "```\n",
    "\n",
    "Running it through `sess.run(tf.nn.top_k(tf.constant(a), k=3))` produces:\n",
    "\n",
    "```\n",
    "TopKV2(values=array([[ 0.34763842,  0.24879643,  0.12789202],\n",
    "       [ 0.28086119,  0.27569815,  0.18063401],\n",
    "       [ 0.26076848,  0.23892179,  0.23664738],\n",
    "       [ 0.29198961,  0.26234032,  0.16505091],\n",
    "       [ 0.34396535,  0.24206137,  0.16240774]]), indices=array([[3, 0, 5],\n",
    "       [0, 1, 4],\n",
    "       [0, 5, 1],\n",
    "       [1, 3, 5],\n",
    "       [1, 4, 3]], dtype=int32))\n",
    "```\n",
    "\n",
    "Looking just at the first row we get `[ 0.34763842,  0.24879643,  0.12789202]`, you can confirm these are the 3 largest probabilities in `a`. You'll also notice `[3, 0, 5]` are the corresponding indices."
   ]
  },
  {
   "cell_type": "code",
   "execution_count": null,
   "metadata": {
    "collapsed": true
   },
   "outputs": [],
   "source": [
    "### Print out the top five softmax probabilities for the predictions on the German traffic sign images found on the web. \n",
    "### Feel free to use as many code cells as needed."
   ]
  },
  {
   "cell_type": "markdown",
   "metadata": {},
   "source": [
    "### Project Writeup\n",
    "\n",
    "Once you have completed the code implementation, document your results in a project writeup using this [template](https://github.com/udacity/CarND-Traffic-Sign-Classifier-Project/blob/master/writeup_template.md) as a guide. The writeup can be in a markdown or pdf file. "
   ]
  },
  {
   "cell_type": "markdown",
   "metadata": {},
   "source": [
    "> **Note**: Once you have completed all of the code implementations and successfully answered each question above, you may finalize your work by exporting the iPython Notebook as an HTML document. You can do this by using the menu above and navigating to  \\n\",\n",
    "    \"**File -> Download as -> HTML (.html)**. Include the finished document along with this notebook as your submission."
   ]
  },
  {
   "cell_type": "markdown",
   "metadata": {},
   "source": [
    "---\n",
    "\n",
    "## Step 4 (Optional): Visualize the Neural Network's State with Test Images\n",
    "\n",
    " This Section is not required to complete but acts as an additional excersise for understaning the output of a neural network's weights. While neural networks can be a great learning device they are often referred to as a black box. We can understand what the weights of a neural network look like better by plotting their feature maps. After successfully training your neural network you can see what it's feature maps look like by plotting the output of the network's weight layers in response to a test stimuli image. From these plotted feature maps, it's possible to see what characteristics of an image the network finds interesting. For a sign, maybe the inner network feature maps react with high activation to the sign's boundary outline or to the contrast in the sign's painted symbol.\n",
    "\n",
    " Provided for you below is the function code that allows you to get the visualization output of any tensorflow weight layer you want. The inputs to the function should be a stimuli image, one used during training or a new one you provided, and then the tensorflow variable name that represents the layer's state during the training process, for instance if you wanted to see what the [LeNet lab's](https://classroom.udacity.com/nanodegrees/nd013/parts/fbf77062-5703-404e-b60c-95b78b2f3f9e/modules/6df7ae49-c61c-4bb2-a23e-6527e69209ec/lessons/601ae704-1035-4287-8b11-e2c2716217ad/concepts/d4aca031-508f-4e0b-b493-e7b706120f81) feature maps looked like for it's second convolutional layer you could enter conv2 as the tf_activation variable.\n",
    "\n",
    "For an example of what feature map outputs look like, check out NVIDIA's results in their paper [End-to-End Deep Learning for Self-Driving Cars](https://devblogs.nvidia.com/parallelforall/deep-learning-self-driving-cars/) in the section Visualization of internal CNN State. NVIDIA was able to show that their network's inner weights had high activations to road boundary lines by comparing feature maps from an image with a clear path to one without. Try experimenting with a similar test to show that your trained network's weights are looking for interesting features, whether it's looking at differences in feature maps from images with or without a sign, or even what feature maps look like in a trained network vs a completely untrained one on the same sign image.\n",
    "\n",
    "<figure>\n",
    " <img src=\"visualize_cnn.png\" width=\"380\" alt=\"Combined Image\" />\n",
    " <figcaption>\n",
    " <p></p> \n",
    " <p style=\"text-align: center;\"> Your output should look something like this (above)</p> \n",
    " </figcaption>\n",
    "</figure>\n",
    " <p></p> \n"
   ]
  },
  {
   "cell_type": "code",
   "execution_count": null,
   "metadata": {
    "collapsed": true
   },
   "outputs": [],
   "source": [
    "### Visualize your network's feature maps here.\n",
    "### Feel free to use as many code cells as needed.\n",
    "\n",
    "# image_input: the test image being fed into the network to produce the feature maps\n",
    "# tf_activation: should be a tf variable name used during your training procedure that represents the calculated state of a specific weight layer\n",
    "# activation_min/max: can be used to view the activation contrast in more detail, by default matplot sets min and max to the actual min and max values of the output\n",
    "# plt_num: used to plot out multiple different weight feature map sets on the same block, just extend the plt number for each new feature map entry\n",
    "\n",
    "def outputFeatureMap(image_input, tf_activation, activation_min=-1, activation_max=-1 ,plt_num=1):\n",
    "    # Here make sure to preprocess your image_input in a way your network expects\n",
    "    # with size, normalization, ect if needed\n",
    "    # image_input =\n",
    "    # Note: x should be the same name as your network's tensorflow data placeholder variable\n",
    "    # If you get an error tf_activation is not defined it may be having trouble accessing the variable from inside a function\n",
    "    activation = tf_activation.eval(session=sess,feed_dict={x : image_input})\n",
    "    featuremaps = activation.shape[3]\n",
    "    plt.figure(plt_num, figsize=(15,15))\n",
    "    for featuremap in range(featuremaps):\n",
    "        plt.subplot(6,8, featuremap+1) # sets the number of feature maps to show on each row and column\n",
    "        plt.title('FeatureMap ' + str(featuremap)) # displays the feature map number\n",
    "        if activation_min != -1 & activation_max != -1:\n",
    "            plt.imshow(activation[0,:,:, featuremap], interpolation=\"nearest\", vmin =activation_min, vmax=activation_max, cmap=\"gray\")\n",
    "        elif activation_max != -1:\n",
    "            plt.imshow(activation[0,:,:, featuremap], interpolation=\"nearest\", vmax=activation_max, cmap=\"gray\")\n",
    "        elif activation_min !=-1:\n",
    "            plt.imshow(activation[0,:,:, featuremap], interpolation=\"nearest\", vmin=activation_min, cmap=\"gray\")\n",
    "        else:\n",
    "            plt.imshow(activation[0,:,:, featuremap], interpolation=\"nearest\", cmap=\"gray\")"
   ]
  }
 ],
 "metadata": {
  "anaconda-cloud": {},
  "kernelspec": {
   "display_name": "Python 3",
   "language": "python",
   "name": "python3"
  },
  "language_info": {
   "codemirror_mode": {
    "name": "ipython",
    "version": 3
   },
   "file_extension": ".py",
   "mimetype": "text/x-python",
   "name": "python",
   "nbconvert_exporter": "python",
   "pygments_lexer": "ipython3",
   "version": "3.6.1"
  }
 },
 "nbformat": 4,
 "nbformat_minor": 1
}
